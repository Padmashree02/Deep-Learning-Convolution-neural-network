{
  "nbformat": 4,
  "nbformat_minor": 0,
  "metadata": {
    "colab": {
      "name": "Untitled14.ipynb",
      "provenance": [],
      "collapsed_sections": []
    },
    "kernelspec": {
      "name": "python3",
      "display_name": "Python 3"
    },
    "language_info": {
      "name": "python"
    }
  },
  "cells": [
    {
      "cell_type": "code",
      "execution_count": 24,
      "metadata": {
        "id": "6KgN4Dn0wcWQ"
      },
      "outputs": [],
      "source": [
        "#from _future_ import absolute_import, division, print_function, unicode_literals\n",
        "import tensorflow as tf\n",
        "from tensorflow import keras\n",
        "from tensorflow.keras import datasets, layers, models\n",
        "import matplotlib.pyplot as plt\n",
        "import numpy as np"
      ]
    },
    {
      "cell_type": "code",
      "source": [
        "minst=tf.keras.datasets.mnist\n",
        "(x_train,y_train), (x_test,y_test)=minst.load_data()\n",
        "x_train, x_test=x_train/255.0, x_test/255.0"
      ],
      "metadata": {
        "id": "NWuIGPh11DFU"
      },
      "execution_count": 30,
      "outputs": []
    },
    {
      "cell_type": "code",
      "source": [
        "class_names=['0','1','2','3','4',\n",
        "             '5','6','7','8','9']\n",
        "plt.figure(figsize=(10,10))\n",
        "for i in range(25):\n",
        "  plt.subplot(5,5,i+1)\n",
        "  plt.xticks([])\n",
        "  plt.yticks([])\n",
        "  plt.grid(False)\n",
        "  plt.imshow(x_train[i])\n",
        "  plt.xlabel(class_names[y_train[i]])\n",
        "plt.show()"
      ],
      "metadata": {
        "colab": {
          "base_uri": "https://localhost:8080/",
          "height": 589
        },
        "id": "qZsZm5H61sup",
        "outputId": "24c9c2ea-aa11-4dce-905d-488574ae35a8"
      },
      "execution_count": 31,
      "outputs": [
        {
          "output_type": "display_data",
          "data": {
            "image/png": "[encoded data removed]",
            "text/plain": [
              "<Figure size 720x720 with 25 Axes>"
            ]
          },
          "metadata": {}
        }
      ]
    },
    {
      "cell_type": "code",
      "source": [
        "x_train=x_train.reshape(x_train.shape[0],28,28,1)\n",
        "x_train.shape\n",
        "x_test=x_test.reshape(x_test.shape[0],28,28,1)\n",
        "x_test.shape"
      ],
      "metadata": {
        "colab": {
          "base_uri": "https://localhost:8080/"
        },
        "id": "nE8H9aw33XkS",
        "outputId": "cc13f97c-12d6-4711-d416-1755d4915922"
      },
      "execution_count": 32,
      "outputs": [
        {
          "output_type": "execute_result",
          "data": {
            "text/plain": [
              "(10000, 28, 28, 1)"
            ]
          },
          "metadata": {},
          "execution_count": 32
        }
      ]
    },
    {
      "cell_type": "code",
      "source": [
        "x_train.shape"
      ],
      "metadata": {
        "colab": {
          "base_uri": "https://localhost:8080/"
        },
        "id": "itcOj7FI3uq7",
        "outputId": "26130e95-d5d5-42dd-9148-c2dc2ecf4574"
      },
      "execution_count": 33,
      "outputs": [
        {
          "output_type": "execute_result",
          "data": {
            "text/plain": [
              "(60000, 28, 28, 1)"
            ]
          },
          "metadata": {},
          "execution_count": 33
        }
      ]
    },
    {
      "cell_type": "code",
      "source": [
        "model=models.Sequential()\n",
        "model.add(layers.Conv2D(32,(3,3),activation='relu',input_shape=(28,28,1)))\n",
        "model.add(layers.MaxPooling2D((2,2)))\n",
        "model.add(layers.Conv2D(64,(3,3),activation='relu'))\n",
        "model.add(layers.MaxPooling2D((2,2)))\n",
        "model.add(layers.Conv2D(64,(3,3),activation='relu'))\n",
        "model.add(layers.Flatten())\n",
        "model.add(layers.Dense(64,activation='relu'))\n",
        "model.add(layers.Dense(10,activation='softmax'))"
      ],
      "metadata": {
        "id": "jg-24dRZ3yX4"
      },
      "execution_count": 34,
      "outputs": []
    },
    {
      "cell_type": "code",
      "source": [
        "model.summary()"
      ],
      "metadata": {
        "colab": {
          "base_uri": "https://localhost:8080/"
        },
        "id": "bUeZ5nID56Nn",
        "outputId": "a2d57899-a481-4ca3-c2c5-6b893bb70fc4"
      },
      "execution_count": 35,
      "outputs": [
        {
          "output_type": "stream",
          "name": "stdout",
          "text": [
            "Model: \"sequential_5\"\n",
            "_________________________________________________________________\n",
            " Layer (type)                Output Shape              Param #   \n",
            "=================================================================\n",
            " conv2d_9 (Conv2D)           (None, 26, 26, 32)        320       \n",
            "                                                                 \n",
            " max_pooling2d_7 (MaxPooling  (None, 13, 13, 32)       0         \n",
            " 2D)                                                             \n",
            "                                                                 \n",
            " conv2d_10 (Conv2D)          (None, 11, 11, 64)        18496     \n",
            "                                                                 \n",
            " max_pooling2d_8 (MaxPooling  (None, 5, 5, 64)         0         \n",
            " 2D)                                                             \n",
            "                                                                 \n",
            " conv2d_11 (Conv2D)          (None, 3, 3, 64)          36928     \n",
            "                                                                 \n",
            " flatten_1 (Flatten)         (None, 576)               0         \n",
            "                                                                 \n",
            " dense_2 (Dense)             (None, 64)                36928     \n",
            "                                                                 \n",
            " dense_3 (Dense)             (None, 10)                650       \n",
            "                                                                 \n",
            "=================================================================\n",
            "Total params: 93,322\n",
            "Trainable params: 93,322\n",
            "Non-trainable params: 0\n",
            "_________________________________________________________________\n"
          ]
        }
      ]
    },
    {
      "cell_type": "code",
      "source": [
        "model.compile(optimizer='adam',\n",
        "              loss=tf.keras.losses.SparseCategoricalCrossentropy(from_logits=True),\n",
        "              metrics=['accuracy'])\n",
        "history=model.fit(x_train,y_train,epochs=10, validation_data=(x_test,y_test))"
      ],
      "metadata": {
        "colab": {
          "base_uri": "https://localhost:8080/"
        },
        "id": "gBAamSueSdCi",
        "outputId": "e0e4b032-a5ef-412e-e825-06c90d375c65"
      },
      "execution_count": 36,
      "outputs": [
        {
          "output_type": "stream",
          "name": "stdout",
          "text": [
            "Epoch 1/10\n"
          ]
        },
        {
          "output_type": "stream",
          "name": "stderr",
          "text": [
            "/usr/local/lib/python3.7/dist-packages/tensorflow/python/util/dispatch.py:1082: UserWarning: \"`sparse_categorical_crossentropy` received `from_logits=True`, but the `output` argument was produced by a sigmoid or softmax activation and thus does not represent logits. Was this intended?\"\n",
            "  return dispatch_target(*args, **kwargs)\n"
          ]
        },
        {
          "output_type": "stream",
          "name": "stdout",
          "text": [
            "1875/1875 [==============================] - 63s 33ms/step - loss: 0.1424 - accuracy: 0.9560 - val_loss: 0.0466 - val_accuracy: 0.9846\n",
            "Epoch 2/10\n",
            "1875/1875 [==============================] - 60s 32ms/step - loss: 0.0442 - accuracy: 0.9863 - val_loss: 0.0321 - val_accuracy: 0.9888\n",
            "Epoch 3/10\n",
            "1875/1875 [==============================] - 60s 32ms/step - loss: 0.0322 - accuracy: 0.9897 - val_loss: 0.0358 - val_accuracy: 0.9880\n",
            "Epoch 4/10\n",
            "1875/1875 [==============================] - 59s 31ms/step - loss: 0.0236 - accuracy: 0.9925 - val_loss: 0.0324 - val_accuracy: 0.9898\n",
            "Epoch 5/10\n",
            "1875/1875 [==============================] - 59s 32ms/step - loss: 0.0206 - accuracy: 0.9934 - val_loss: 0.0264 - val_accuracy: 0.9930\n",
            "Epoch 6/10\n",
            "1875/1875 [==============================] - 59s 31ms/step - loss: 0.0147 - accuracy: 0.9951 - val_loss: 0.0275 - val_accuracy: 0.9914\n",
            "Epoch 7/10\n",
            "1875/1875 [==============================] - 59s 31ms/step - loss: 0.0124 - accuracy: 0.9959 - val_loss: 0.0338 - val_accuracy: 0.9906\n",
            "Epoch 8/10\n",
            "1875/1875 [==============================] - 59s 31ms/step - loss: 0.0115 - accuracy: 0.9965 - val_loss: 0.0361 - val_accuracy: 0.9905\n",
            "Epoch 9/10\n",
            "1875/1875 [==============================] - 59s 31ms/step - loss: 0.0088 - accuracy: 0.9971 - val_loss: 0.0352 - val_accuracy: 0.9905\n",
            "Epoch 10/10\n",
            "1875/1875 [==============================] - 58s 31ms/step - loss: 0.0090 - accuracy: 0.9970 - val_loss: 0.0472 - val_accuracy: 0.9896\n"
          ]
        }
      ]
    },
    {
      "cell_type": "code",
      "source": [
        "plt.plot(history.history['accuracy'],label='accuracy')\n",
        "plt.plot(history.history['val_accuracy'],label='val_accuracy')\n",
        "plt.xlabel('Epoch')\n",
        "plt.ylabel('Accuracy')\n",
        "plt.ylim([0.5,1])\n",
        "plt.legend(loc='lower right')\n",
        "plt.show()\n",
        "\n",
        "\n",
        "test_loss,test_acc=model.evaluate(x_test,y_test,verbose=2)\n"
      ],
      "metadata": {
        "colab": {
          "base_uri": "https://localhost:8080/",
          "height": 300
        },
        "id": "m0yBZj60KhX9",
        "outputId": "31324365-b1d8-4d59-dfa0-5dc5a6ae2f41"
      },
      "execution_count": 59,
      "outputs": [
        {
          "output_type": "display_data",
          "data": {
            "image/png": "[encoded data removed]",
            "text/plain": [
              "<Figure size 432x288 with 1 Axes>"
            ]
          },
          "metadata": {
            "needs_background": "light"
          }
        },
        {
          "output_type": "stream",
          "name": "stdout",
          "text": [
            "313/313 - 3s - loss: 0.0472 - accuracy: 0.9896 - 3s/epoch - 9ms/step\n"
          ]
        }
      ]
    },
    {
      "cell_type": "code",
      "source": [
        "model.evaluate(x_test, y_test)"
      ],
      "metadata": {
        "colab": {
          "base_uri": "https://localhost:8080/"
        },
        "id": "r5Kii3hPQOMb",
        "outputId": "108061b0-b28b-446d-fb94-01eaf22476f6"
      },
      "execution_count": 42,
      "outputs": [
        {
          "output_type": "stream",
          "name": "stdout",
          "text": [
            "313/313 [==============================] - 3s 9ms/step - loss: 0.0472 - accuracy: 0.9896\n"
          ]
        },
        {
          "output_type": "execute_result",
          "data": {
            "text/plain": [
              "[0.04715508595108986, 0.9896000027656555]"
            ]
          },
          "metadata": {},
          "execution_count": 42
        }
      ]
    },
    {
      "cell_type": "code",
      "source": [
        "import matplotlib.pyplot as plt\n",
        "x_test=x_test.reshape(x_test.shape[0],28,28)\n",
        "plt.imshow(x_test[5678])\n",
        "plt.show()\n",
        "x_test[5678].shape"
      ],
      "metadata": {
        "colab": {
          "base_uri": "https://localhost:8080/",
          "height": 282
        },
        "id": "WBBYmr9CQTbk",
        "outputId": "c30b1cec-ece6-4adc-ff4d-4d37ec259478"
      },
      "execution_count": 44,
      "outputs": [
        {
          "output_type": "display_data",
          "data": {
            "image/png": "[encoded data removed]",
            "text/plain": [
              "<Figure size 432x288 with 1 Axes>"
            ]
          },
          "metadata": {
            "needs_background": "light"
          }
        },
        {
          "output_type": "execute_result",
          "data": {
            "text/plain": [
              "(28, 28)"
            ]
          },
          "metadata": {},
          "execution_count": 44
        }
      ]
    },
    {
      "cell_type": "code",
      "source": [
        "x_test =x_test.reshape(x_test.shape[0],28,28,1)\n",
        "predictions=model.predict(x_test)\n",
        "np.argmax(predictions[5678])"
      ],
      "metadata": {
        "colab": {
          "base_uri": "https://localhost:8080/"
        },
        "id": "xBuYeeqMQ-OB",
        "outputId": "6515747a-a2a2-4e03-e508-df7ba34e93d1"
      },
      "execution_count": 53,
      "outputs": [
        {
          "output_type": "execute_result",
          "data": {
            "text/plain": [
              "8"
            ]
          },
          "metadata": {},
          "execution_count": 53
        }
      ]
    },
    {
      "cell_type": "code",
      "source": [
        "pred=[]\n",
        "for j in range (len(predictions)):\n",
        "  pred.append(np.argmax(predictions[j]))\n",
        "import sklearn\n",
        "from sklearn.metrics import confusion_matrix\n",
        "confusion_matrix(y_test,pred)"
      ],
      "metadata": {
        "colab": {
          "base_uri": "https://localhost:8080/"
        },
        "id": "HlnNCEnnRgQK",
        "outputId": "ce5b02d3-65fd-4e6e-80dd-a3474baaae62"
      },
      "execution_count": 48,
      "outputs": [
        {
          "output_type": "execute_result",
          "data": {
            "text/plain": [
              "array([[ 974,    1,    1,    0,    0,    0,    0,    1,    2,    1],\n",
              "       [   0, 1134,    0,    1,    0,    0,    0,    0,    0,    0],\n",
              "       [   1,    1, 1022,    0,    0,    0,    0,    7,    1,    0],\n",
              "       [   0,    1,    1,  998,    0,    4,    0,    5,    1,    0],\n",
              "       [   0,    0,    0,    0,  972,    0,    1,    1,    1,    7],\n",
              "       [   0,    0,    0,    4,    0,  874,    1,    2,    6,    5],\n",
              "       [   2,    3,    0,    0,    5,    0,  936,    0,   12,    0],\n",
              "       [   0,    2,    3,    0,    0,    0,    0, 1023,    0,    0],\n",
              "       [   1,    0,    3,    0,    0,    0,    0,    2,  967,    1],\n",
              "       [   0,    0,    0,    0,    3,    4,    0,    4,    2,  996]])"
            ]
          },
          "metadata": {},
          "execution_count": 48
        }
      ]
    },
    {
      "cell_type": "code",
      "source": [
        "print('Accuracy:', sklearn.metrics.accuracy_score(y_test,pred))\n",
        "print('F1 score:', sklearn.metrics.f1_score(y_test,pred,average='weighted'))\n",
        "print('Recall', sklearn.metrics.recall_score(y_test,pred,average='weighted'))\n",
        "print('Precision', sklearn.metrics.precision_score(y_test,pred,average='weighted'))"
      ],
      "metadata": {
        "colab": {
          "base_uri": "https://localhost:8080/"
        },
        "id": "nxwC0TqRRqaU",
        "outputId": "744aebb2-5fc5-482f-8eae-db2e2461e8e8"
      },
      "execution_count": 50,
      "outputs": [
        {
          "output_type": "stream",
          "name": "stdout",
          "text": [
            "Accuracy: 0.9896\n",
            "F1 score: 0.9896025288096476\n",
            "Recall 0.9896\n",
            "Precision 0.9896666139277382\n"
          ]
        }
      ]
    }
  ]
}